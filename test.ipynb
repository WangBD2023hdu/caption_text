{
 "cells": [
  {
   "cell_type": "code",
   "execution_count": 5,
   "metadata": {},
   "outputs": [],
   "source": [
    "import json\n",
    "import torch\n",
    "import os"
   ]
  },
  {
   "cell_type": "code",
   "execution_count": 18,
   "metadata": {},
   "outputs": [],
   "source": [
    "text_path = os.path.join('mydata','valdep.json')"
   ]
  },
  {
   "cell_type": "code",
   "execution_count": 19,
   "metadata": {},
   "outputs": [],
   "source": [
    "with open(text_path) as f:\n",
    "    dataset = json.load(f)"
   ]
  },
  {
   "cell_type": "code",
   "execution_count": 20,
   "metadata": {},
   "outputs": [],
   "source": [
    "for i in dataset:\n",
    "    i\n"
   ]
  },
  {
   "cell_type": "code",
   "execution_count": 21,
   "metadata": {},
   "outputs": [
    {
     "data": {
      "text/plain": [
       "{'chunk_cap': ['corollary',\n",
       "  ':',\n",
       "  'if',\n",
       "  'your bladder',\n",
       "  'is',\n",
       "  'tiny',\n",
       "  ',',\n",
       "  'don',\n",
       "  \"'\",\n",
       "  't',\n",
       "  'drink',\n",
       "  'a huge bottle',\n",
       "  'of',\n",
       "  'water',\n",
       "  'before',\n",
       "  'getting',\n",
       "  'on',\n",
       "  'the plane',\n",
       "  '.',\n",
       "  '# traveltips',\n",
       "  '#',\n",
       "  'haiku',\n",
       "  '#',\n",
       "  'lol',\n",
       "  '#',\n",
       "  'funny'],\n",
       " 'token_cap': ['corollary',\n",
       "  ':',\n",
       "  'if',\n",
       "  'your',\n",
       "  'bladder',\n",
       "  'is',\n",
       "  'tiny',\n",
       "  ',',\n",
       "  'don',\n",
       "  \"'\",\n",
       "  't',\n",
       "  'drink',\n",
       "  'a',\n",
       "  'huge',\n",
       "  'bottle',\n",
       "  'of',\n",
       "  'water',\n",
       "  'before',\n",
       "  'getting',\n",
       "  'on',\n",
       "  'the',\n",
       "  'plane',\n",
       "  '.',\n",
       "  '#',\n",
       "  'traveltips',\n",
       "  '#',\n",
       "  'haiku',\n",
       "  '#',\n",
       "  'lol',\n",
       "  '#',\n",
       "  'funny'],\n",
       " 'token_dep': [[2, 5],\n",
       "  [3, 4],\n",
       "  [4, 5],\n",
       "  [5, 11],\n",
       "  [6, 5],\n",
       "  [8, 11],\n",
       "  [10, 11],\n",
       "  [11, 0],\n",
       "  [12, 14],\n",
       "  [13, 14],\n",
       "  [14, 11],\n",
       "  [15, 14],\n",
       "  [16, 15],\n",
       "  [17, 11],\n",
       "  [18, 17],\n",
       "  [19, 18],\n",
       "  [20, 21],\n",
       "  [21, 19],\n",
       "  [26, 30],\n",
       "  [28, 30],\n",
       "  [30, 24]],\n",
       " 'chunk_dep': [[2, 4],\n",
       "  [3, 4],\n",
       "  [4, 10],\n",
       "  [5, 4],\n",
       "  [7, 10],\n",
       "  [9, 10],\n",
       "  [10, 0],\n",
       "  [11, 10],\n",
       "  [12, 11],\n",
       "  [13, 12],\n",
       "  [14, 10],\n",
       "  [15, 14],\n",
       "  [16, 15],\n",
       "  [17, 16],\n",
       "  [21, 25],\n",
       "  [23, 25],\n",
       "  [25, 19]],\n",
       " 'chunk': ['corollary',\n",
       "  'your bladder',\n",
       "  'a huge bottle',\n",
       "  'water',\n",
       "  'the plane',\n",
       "  '# traveltips'],\n",
       " 'chunk_index': [0, 3, 11, 13, 17, 19]}"
      ]
     },
     "execution_count": 21,
     "metadata": {},
     "output_type": "execute_result"
    }
   ],
   "source": [
    "dataset[100][5]"
   ]
  },
  {
   "cell_type": "code",
   "execution_count": 14,
   "metadata": {},
   "outputs": [],
   "source": [
    "label = dataset[100][2]"
   ]
  },
  {
   "cell_type": "code",
   "execution_count": 40,
   "metadata": {},
   "outputs": [],
   "source": [
    "text = dataset[100][5]"
   ]
  },
  {
   "cell_type": "code",
   "execution_count": 35,
   "metadata": {},
   "outputs": [
    {
     "data": {
      "text/plain": [
       "'there are two men sitting in the back of a plane'"
      ]
     },
     "execution_count": 35,
     "metadata": {},
     "output_type": "execute_result"
    }
   ],
   "source": [
    "dataset[100][4]"
   ]
  },
  {
   "cell_type": "code",
   "execution_count": 41,
   "metadata": {},
   "outputs": [
    {
     "data": {
      "text/plain": [
       "['corollary',\n",
       " ':',\n",
       " 'if',\n",
       " 'your',\n",
       " 'bladder',\n",
       " 'is',\n",
       " 'tiny',\n",
       " ',',\n",
       " 'don',\n",
       " \"'\",\n",
       " 't',\n",
       " 'drink',\n",
       " 'a',\n",
       " 'huge',\n",
       " 'bottle',\n",
       " 'of',\n",
       " 'water',\n",
       " 'before',\n",
       " 'getting',\n",
       " 'on',\n",
       " 'the',\n",
       " 'plane',\n",
       " '.',\n",
       " '#',\n",
       " 'traveltips',\n",
       " '#',\n",
       " 'haiku',\n",
       " '#',\n",
       " 'lol',\n",
       " '#',\n",
       " 'funny']"
      ]
     },
     "execution_count": 41,
     "metadata": {},
     "output_type": "execute_result"
    }
   ],
   "source": [
    "text[\"token_cap\"]"
   ]
  },
  {
   "cell_type": "code",
   "execution_count": 30,
   "metadata": {},
   "outputs": [],
   "source": [
    "dep = text[\"token_dep\"]"
   ]
  },
  {
   "cell_type": "code",
   "execution_count": 31,
   "metadata": {},
   "outputs": [
    {
     "data": {
      "text/plain": [
       "[[0, 2],\n",
       " [1, 2],\n",
       " [3, 4],\n",
       " [4, 2],\n",
       " [7, 2],\n",
       " [9, 7],\n",
       " [11, 7],\n",
       " [13, 11],\n",
       " [15, 13],\n",
       " [16, 2],\n",
       " [18, 2],\n",
       " [20, 18],\n",
       " [22, 20]]"
      ]
     },
     "execution_count": 31,
     "metadata": {},
     "output_type": "execute_result"
    }
   ],
   "source": [
    "dep"
   ]
  },
  {
   "cell_type": "code",
   "execution_count": 42,
   "metadata": {},
   "outputs": [],
   "source": [
    "test = 'Hello my name'\n",
    "test2 = [\"w\", \"sd\"]"
   ]
  },
  {
   "cell_type": "code",
   "execution_count": 44,
   "metadata": {},
   "outputs": [],
   "source": [
    "temp = test.split(' ')"
   ]
  },
  {
   "cell_type": "code",
   "execution_count": 45,
   "metadata": {},
   "outputs": [
    {
     "data": {
      "text/plain": [
       "['Hello', 'my', 'name', 'w', 'sd']"
      ]
     },
     "execution_count": 45,
     "metadata": {},
     "output_type": "execute_result"
    }
   ],
   "source": [
    "temp + test2"
   ]
  },
  {
   "cell_type": "code",
   "execution_count": 46,
   "metadata": {},
   "outputs": [
    {
     "data": {
      "text/plain": [
       "['Hello', 'my', 'name']"
      ]
     },
     "execution_count": 46,
     "metadata": {},
     "output_type": "execute_result"
    }
   ],
   "source": [
    "temp"
   ]
  },
  {
   "cell_type": "code",
   "execution_count": 1,
   "metadata": {},
   "outputs": [],
   "source": [
    "arr1 = [i for i in range(10)]\n",
    "arr2 = [i for i in range(10)]"
   ]
  },
  {
   "cell_type": "code",
   "execution_count": 2,
   "metadata": {},
   "outputs": [],
   "source": [
    "test = [i+j for i,j in zip(arr1, arr2)]"
   ]
  },
  {
   "cell_type": "code",
   "execution_count": 3,
   "metadata": {},
   "outputs": [
    {
     "data": {
      "text/plain": [
       "[0, 2, 4, 6, 8, 10, 12, 14, 16, 18]"
      ]
     },
     "execution_count": 3,
     "metadata": {},
     "output_type": "execute_result"
    }
   ],
   "source": [
    "test"
   ]
  },
  {
   "cell_type": "code",
   "execution_count": 6,
   "metadata": {},
   "outputs": [],
   "source": [
    "data = torch.randn(3, 2, 4)"
   ]
  },
  {
   "cell_type": "code",
   "execution_count": 8,
   "metadata": {},
   "outputs": [
    {
     "data": {
      "text/plain": [
       "tensor([[[ 1.3407,  0.1952,  1.7156, -0.0125],\n",
       "         [-0.0549, -0.1563, -0.1781, -0.4349]],\n",
       "\n",
       "        [[-1.8228,  0.2858, -2.2024,  0.0674],\n",
       "         [ 1.4483,  0.9149, -0.0555, -0.3191]],\n",
       "\n",
       "        [[ 0.3889,  0.3774, -0.1527, -0.0858],\n",
       "         [-0.2523,  1.4381,  0.1103,  1.6855]]])"
      ]
     },
     "execution_count": 8,
     "metadata": {},
     "output_type": "execute_result"
    }
   ],
   "source": [
    "data"
   ]
  },
  {
   "cell_type": "code",
   "execution_count": 16,
   "metadata": {},
   "outputs": [
    {
     "data": {
      "text/plain": [
       "tensor([[[ 1.2858,  0.0389,  1.5375, -0.4474]],\n",
       "\n",
       "        [[-0.3745,  1.2006, -2.2579, -0.2518]],\n",
       "\n",
       "        [[ 0.1367,  1.8155, -0.0424,  1.5997]]])"
      ]
     },
     "execution_count": 16,
     "metadata": {},
     "output_type": "execute_result"
    }
   ],
   "source": [
    "torch.sum(data ,dim=1, keepdim=True)"
   ]
  },
  {
   "cell_type": "code",
   "execution_count": 17,
   "metadata": {},
   "outputs": [
    {
     "data": {
      "text/plain": [
       "tensor([[[ 2.4148]],\n",
       "\n",
       "        [[-1.6836]],\n",
       "\n",
       "        [[ 3.5095]]])"
      ]
     },
     "execution_count": 17,
     "metadata": {},
     "output_type": "execute_result"
    }
   ],
   "source": [
    "torch.sum(data ,dim=(1,2), keepdim=True)"
   ]
  },
  {
   "cell_type": "code",
   "execution_count": null,
   "metadata": {},
   "outputs": [],
   "source": []
  }
 ],
 "metadata": {
  "kernelspec": {
   "display_name": "cmcr",
   "language": "python",
   "name": "python3"
  },
  "language_info": {
   "codemirror_mode": {
    "name": "ipython",
    "version": 3
   },
   "file_extension": ".py",
   "mimetype": "text/x-python",
   "name": "python",
   "nbconvert_exporter": "python",
   "pygments_lexer": "ipython3",
   "version": "3.8.16"
  }
 },
 "nbformat": 4,
 "nbformat_minor": 2
}
